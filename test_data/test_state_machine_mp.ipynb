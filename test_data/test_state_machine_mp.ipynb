{
 "cells": [
  {
   "cell_type": "code",
   "execution_count": 1,
   "metadata": {},
   "outputs": [],
   "source": [
    "from transition_amr_parser.o7_entity_state_machine_new import AMRStateMachine, get_spacy_lemmatizer\n",
    "import transition_amr_parser.o7_entity_state_machine as old"
   ]
  },
  {
   "cell_type": "code",
   "execution_count": 2,
   "metadata": {},
   "outputs": [],
   "source": [
    "en_file = './oracles/o7_entity_new_o3align/dev.en'\n",
    "actions_file = './oracles/o7_entity_new_o3align/dev.actions'"
   ]
  },
  {
   "cell_type": "code",
   "execution_count": 3,
   "metadata": {},
   "outputs": [],
   "source": [
    "en_list = []\n",
    "with open(en_file, 'r') as f:\n",
    "    en_list = [line.strip().split('\\t') for line in f if line.strip()]\n",
    "\n",
    "actions_list = []\n",
    "with open(actions_file, 'r') as f:\n",
    "    actions_list = [line.strip().split('\\t') for line in f if line.strip()]"
   ]
  },
  {
   "cell_type": "code",
   "execution_count": 4,
   "metadata": {},
   "outputs": [
    {
     "name": "stdout",
     "output_type": "stream",
     "text": [
      "['Has', 'history', 'given', 'us', 'too', 'many', 'lessons', '?', ',', '530', ',', '412', ',', '64', '<ROOT>']\n",
      "\n",
      "\n",
      "['REDUCE', 'COPY_LEMMA', 'SHIFT', 'COPY_SENSE01', 'LA(1,:ARG0)', 'SHIFT', 'PRED(we)', 'RA(3,:ARG2)', 'SHIFT', 'COPY_LEMMA', 'SHIFT', 'COPY_LEMMA', 'LA(9,:degree)', 'SHIFT', 'COPY_LEMMA', 'RA(3,:ARG1)', 'LA(11,:quant)', 'SHIFT', 'PRED(interrogative)', 'RA(3,:mode)', 'SHIFT', 'REDUCE', 'COPY_LEMMA', 'SHIFT', 'REDUCE', 'COPY_LEMMA', 'SHIFT', 'REDUCE', 'COPY_LEMMA', 'SHIFT', 'SHIFT']\n"
     ]
    }
   ],
   "source": [
    "n = 1\n",
    "print(en_list[n])\n",
    "print('\\n')\n",
    "print(actions_list[n])"
   ]
  },
  {
   "cell_type": "code",
   "execution_count": 35,
   "metadata": {},
   "outputs": [],
   "source": [
    "tokens = en_list[n]\n",
    "\n",
    "lemmatizer = get_spacy_lemmatizer()\n",
    "machine = AMRStateMachine(tokens, spacy_lemmatizer=lemmatizer, amr_graph=True)\n",
    "machine_old = old.AMRStateMachine(tokens, spacy_lemmatizer=lemmatizer, amr_graph=True)"
   ]
  },
  {
   "cell_type": "code",
   "execution_count": 36,
   "metadata": {},
   "outputs": [],
   "source": [
    "actions = actions_list[n]\n",
    "\n",
    "assert 'CLOSE' not in actions\n",
    "for act in actions:\n",
    "    machine.apply_action(act)\n",
    "# machine.CLOSE()"
   ]
  },
  {
   "cell_type": "code",
   "execution_count": 37,
   "metadata": {},
   "outputs": [
    {
     "name": "stdout",
     "output_type": "stream",
     "text": [
      "# ::tok Has history given us too many lessons ? , 530 , 412 , 64 <ROOT>\n",
      "# ::node\t-1\t<ROOT>\n",
      "# ::node\t0\thistory\n",
      "# ::node\t1\tgive-01\n",
      "# ::node\t2\twe\n",
      "# ::node\t3\ttoo\n",
      "# ::node\t4\tmany\n",
      "# ::node\t5\tlesson\n",
      "# ::node\t6\tinterrogative\n",
      "# ::node\t7\t530\n",
      "# ::node\t8\t412\n",
      "# ::node\t9\t64\n",
      "# ::edge\tgive-01\tARG0\thistory\t1\t0\t\n",
      "# ::edge\tgive-01\tARG2\twe\t1\t2\t\n",
      "# ::edge\tmany\tdegree\ttoo\t4\t3\t\n",
      "# ::edge\tgive-01\tARG1\tlesson\t1\t5\t\n",
      "# ::edge\tlesson\tquant\tmany\t5\t4\t\n",
      "# ::edge\tgive-01\tmode\tinterrogative\t1\t6\t\n",
      "\n"
     ]
    }
   ],
   "source": [
    "print(machine.amr)"
   ]
  },
  {
   "cell_type": "code",
   "execution_count": 14,
   "metadata": {},
   "outputs": [
    {
     "name": "stdout",
     "output_type": "stream",
     "text": [
      "# ::tok Has history given us too many lessons ? , 530 , 412 , 64 <ROOT>\n",
      "# ::node\t1\thistory\t1-2\n",
      "# ::node\t2\tgive-01\t2-3\n",
      "# ::node\t3\twe\t3-4\n",
      "# ::node\t4\ttoo\t4-5\n",
      "# ::node\t5\tmany\t5-6\n",
      "# ::node\t6\tlesson\t6-7\n",
      "# ::node\t7\tinterrogative\t7-8\n",
      "# ::node\t9\t530\t9-10\n",
      "# ::node\t11\t412\t11-12\n",
      "# ::node\t13\t64\t13-14\n",
      "# ::root\t2\tgive-01\n",
      "# ::edge\tgive-01\tARG0\thistory\t2\t1\t\n",
      "# ::edge\tgive-01\tARG2\twe\t2\t3\t\n",
      "# ::edge\tmany\tdegree\ttoo\t5\t4\t\n",
      "# ::edge\tgive-01\tARG1\tlesson\t2\t6\t\n",
      "# ::edge\tlesson\tquant\tmany\t6\t5\t\n",
      "# ::edge\tgive-01\tmode\tinterrogative\t2\t7\t\n",
      "# ::edge\tgive-01\trel\t530\t2\t9\t\n",
      "# ::edge\tgive-01\trel\t412\t2\t11\t\n",
      "# ::edge\tgive-01\trel\t64\t2\t13\t\n",
      "\n"
     ]
    }
   ],
   "source": [
    "print(machine_old.amr)"
   ]
  },
  {
   "cell_type": "code",
   "execution_count": 8,
   "metadata": {},
   "outputs": [],
   "source": [
    "machine.CLOSE()"
   ]
  },
  {
   "cell_type": "code",
   "execution_count": 9,
   "metadata": {},
   "outputs": [
    {
     "name": "stdout",
     "output_type": "stream",
     "text": [
      "# ::tok Has history given us too many lessons ? , 530 , 412 , 64 <ROOT>\n",
      "# ::node\t0\thistory\t1-2\n",
      "# ::node\t1\tgive-01\t2-3\n",
      "# ::node\t2\twe\t3-4\n",
      "# ::node\t3\ttoo\t4-5\n",
      "# ::node\t4\tmany\t5-6\n",
      "# ::node\t5\tlesson\t6-7\n",
      "# ::node\t6\tinterrogative\t7-8\n",
      "# ::node\t7\t530\t9-10\n",
      "# ::node\t8\t412\t11-12\n",
      "# ::node\t9\t64\t13-14\n",
      "# ::root\t1\tgive-01\n",
      "# ::edge\tgive-01\tARG0\thistory\t1\t0\t\n",
      "# ::edge\tgive-01\tARG2\twe\t1\t2\t\n",
      "# ::edge\tmany\tdegree\ttoo\t4\t3\t\n",
      "# ::edge\tgive-01\tARG1\tlesson\t1\t5\t\n",
      "# ::edge\tlesson\tquant\tmany\t5\t4\t\n",
      "# ::edge\tgive-01\tmode\tinterrogative\t1\t6\t\n",
      "# ::edge\tgive-01\trel\t530\t1\t7\t\n",
      "# ::edge\tgive-01\trel\t412\t1\t8\t\n",
      "# ::edge\tgive-01\trel\t64\t1\t9\t\n",
      "\n"
     ]
    }
   ],
   "source": [
    "print(machine.amr.toJAMRString(True))"
   ]
  },
  {
   "cell_type": "code",
   "execution_count": 47,
   "metadata": {},
   "outputs": [
    {
     "data": {
      "text/plain": [
       "{0: 2, 1: 3, 2: 4, 3: 5, 4: 6, 5: 7, 6: 8, 7: 10, 8: 12, 9: 14}"
      ]
     },
     "execution_count": 47,
     "metadata": {},
     "output_type": "execute_result"
    }
   ],
   "source": [
    "machine.amr.alignments"
   ]
  },
  {
   "cell_type": "code",
   "execution_count": 29,
   "metadata": {},
   "outputs": [
    {
     "data": {
      "text/plain": [
       "{0: 1, 1: 2, 2: 3, 3: 4, 4: 5, 5: 6, 6: 7, 7: 9, 8: 11, 9: 13}"
      ]
     },
     "execution_count": 29,
     "metadata": {},
     "output_type": "execute_result"
    }
   ],
   "source": [
    "machine.alignments"
   ]
  },
  {
   "cell_type": "code",
   "execution_count": 10,
   "metadata": {},
   "outputs": [],
   "source": [
    "machine_old = old.AMRStateMachine(tokens, spacy_lemmatizer=lemmatizer, amr_graph=True)\n",
    "actions = actions_list[n]\n",
    "\n",
    "assert 'CLOSE' not in actions\n",
    "for act in actions:\n",
    "    machine_old.apply_action(act)\n",
    "# machine.CLOSE()"
   ]
  },
  {
   "cell_type": "code",
   "execution_count": 12,
   "metadata": {},
   "outputs": [],
   "source": [
    "machine_old.CLOSE()"
   ]
  },
  {
   "cell_type": "code",
   "execution_count": 11,
   "metadata": {},
   "outputs": [
    {
     "name": "stdout",
     "output_type": "stream",
     "text": [
      "# ::tok Has history given us too many lessons ? , 530 , 412 , 64 <ROOT>\n",
      "# ::node\t1\thistory\n",
      "# ::node\t2\tgive-01\n",
      "# ::node\t3\twe\n",
      "# ::node\t4\ttoo\n",
      "# ::node\t5\tmany\n",
      "# ::node\t6\tlesson\n",
      "# ::node\t7\tinterrogative\n",
      "# ::node\t9\t530\n",
      "# ::node\t11\t412\n",
      "# ::node\t13\t64\n",
      "# ::node\t-1\t<ROOT>\n",
      "# ::edge\tgive-01\tARG0\thistory\t2\t1\t\n",
      "# ::edge\tgive-01\tARG2\twe\t2\t3\t\n",
      "# ::edge\tmany\tdegree\ttoo\t5\t4\t\n",
      "# ::edge\tgive-01\tARG1\tlesson\t2\t6\t\n",
      "# ::edge\tlesson\tquant\tmany\t6\t5\t\n",
      "# ::edge\tgive-01\tmode\tinterrogative\t2\t7\t\n",
      "\n"
     ]
    }
   ],
   "source": [
    "print(machine_old.amr.toJAMRString(True))"
   ]
  },
  {
   "cell_type": "code",
   "execution_count": 13,
   "metadata": {},
   "outputs": [
    {
     "name": "stdout",
     "output_type": "stream",
     "text": [
      "# ::tok Has history given us too many lessons ? , 530 , 412 , 64 <ROOT>\n",
      "# ::node\t1\thistory\t1-2\n",
      "# ::node\t2\tgive-01\t2-3\n",
      "# ::node\t3\twe\t3-4\n",
      "# ::node\t4\ttoo\t4-5\n",
      "# ::node\t5\tmany\t5-6\n",
      "# ::node\t6\tlesson\t6-7\n",
      "# ::node\t7\tinterrogative\t7-8\n",
      "# ::node\t9\t530\t9-10\n",
      "# ::node\t11\t412\t11-12\n",
      "# ::node\t13\t64\t13-14\n",
      "# ::root\t2\tgive-01\n",
      "# ::edge\tgive-01\tARG0\thistory\t2\t1\t\n",
      "# ::edge\tgive-01\tARG2\twe\t2\t3\t\n",
      "# ::edge\tmany\tdegree\ttoo\t5\t4\t\n",
      "# ::edge\tgive-01\tARG1\tlesson\t2\t6\t\n",
      "# ::edge\tlesson\tquant\tmany\t6\t5\t\n",
      "# ::edge\tgive-01\tmode\tinterrogative\t2\t7\t\n",
      "# ::edge\tgive-01\trel\t530\t2\t9\t\n",
      "# ::edge\tgive-01\trel\t412\t2\t11\t\n",
      "# ::edge\tgive-01\trel\t64\t2\t13\t\n",
      "(g / give-01\n",
      "      :ARG0 (h / history)\n",
      "      :ARG1 (l / lesson\n",
      "            :quant (m / many\n",
      "                  :degree (t / too)))\n",
      "      :ARG2 (w / we)\n",
      "      :mode interrogative\n",
      "      :rel 530\n",
      "      :rel 412\n",
      "      :rel 64)\n",
      "\n",
      "\n"
     ]
    }
   ],
   "source": [
    "print(machine_old.amr.toJAMRString())"
   ]
  },
  {
   "cell_type": "code",
   "execution_count": null,
   "metadata": {},
   "outputs": [],
   "source": []
  }
 ],
 "metadata": {
  "kernelspec": {
   "display_name": "Python [conda env:.conda-amr0.4]",
   "language": "python",
   "name": "conda-env-.conda-amr0.4-py"
  },
  "language_info": {
   "codemirror_mode": {
    "name": "ipython",
    "version": 3
   },
   "file_extension": ".py",
   "mimetype": "text/x-python",
   "name": "python",
   "nbconvert_exporter": "python",
   "pygments_lexer": "ipython3",
   "version": "3.7.9"
  }
 },
 "nbformat": 4,
 "nbformat_minor": 2
}
