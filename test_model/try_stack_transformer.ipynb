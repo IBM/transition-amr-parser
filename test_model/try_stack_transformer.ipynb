{
 "cells": [
  {
   "cell_type": "code",
   "execution_count": 30,
   "metadata": {},
   "outputs": [],
   "source": [
    "%%bash\n",
    "\n",
    "set -o errexit\n",
    "set -o pipefail\n",
    "set -o nounset"
   ]
  },
  {
   "cell_type": "code",
   "execution_count": 35,
   "metadata": {},
   "outputs": [
    {
     "name": "stdout",
     "output_type": "stream",
     "text": [
      "DATA.tests/models/wiki25//beam1\n"
     ]
    }
   ],
   "source": [
    "%%bash\n",
    "\n",
    "# Config\n",
    "ORACLE_FOLDER=../DATA.tests/oracles/wiki25/\n",
    "FEATURES_FOLDER=../DATA.tests/features/wiki25/\n",
    "MODEL_FOLDER=../DATA.tests/models/wiki25/\n",
    "RESULTS_FOLDER=$MODEL_FOLDER/beam1\n",
    "max_epoch=10\n",
    "\n",
    "echo $RESULTS_FOLDER"
   ]
  },
  {
   "cell_type": "code",
   "execution_count": 38,
   "metadata": {},
   "outputs": [
    {
     "name": "stdout",
     "output_type": "stream",
     "text": [
      "\n"
     ]
    }
   ],
   "source": [
    "%%bash\n",
    "\n",
    "echo $RESULTS_FOLDER"
   ]
  },
  {
   "cell_type": "code",
   "execution_count": 41,
   "metadata": {},
   "outputs": [
    {
     "name": "stdout",
     "output_type": "stream",
     "text": [
      "2020-07-07 10:26:41 [amr] Starts reading data\n",
      "2020-07-07 10:26:41 [amr] Training Data\n",
      "2020-07-07 10:26:41 [amr] Number of labels: 35\n",
      "2020-07-07 10:26:41 [amr] Number of nodes: 216\n",
      "2020-07-07 10:26:41 [amr] Number of words: 241\n",
      "2020-07-07 10:26:41 [amr] Number of sentences: 25\n",
      "2020-07-07 10:26:41 [amr] Processing oracle\n",
      "2020-07-07 10:26:41 [oracle] Parsing data\n",
      "2020-07-07 10:26:41 [oracle] Done\n",
      "2020-07-07 10:26:41 [Totals:] 0.46\n",
      "2020-07-07 10:26:41 [Totals:] Failed Entity Predictions:\n"
     ]
    },
    {
     "name": "stderr",
     "output_type": "stream",
     "text": [
      "\r",
      "computing oracle:   0%|          | 0/25 [00:00<?, ?it/s]\r",
      "computing oracle:  40%|████      | 10/25 [00:00<00:00, 98.10it/s]\r",
      "computing oracle: 100%|██████████| 25/25 [00:00<00:00, 108.95it/s]\r",
      "computing oracle: 100%|██████████| 25/25 [00:00<00:00, 122.05it/s]\n"
     ]
    }
   ],
   "source": [
    "%%bash\n",
    "\n",
    "# Config\n",
    "ORACLE_FOLDER=../DATA.tests/oracles/wiki25/\n",
    "FEATURES_FOLDER=../DATA.tests/features/wiki25/\n",
    "MODEL_FOLDER=../DATA.tests/models/wiki25/\n",
    "RESULTS_FOLDER=$MODEL_FOLDER/beam1\n",
    "max_epoch=10\n",
    "\n",
    "set -o errexit\n",
    "set -o pipefail\n",
    "set -o nounset\n",
    "\n",
    "# ORACLE EXTRACTION\n",
    "# Given sentence and aligned AMR, provide action sequence that generates the\n",
    "# AMR back\n",
    "mkdir -p $ORACLE_FOLDER\n",
    "python ../transition_amr_parser/o3_data_oracle.py \\\n",
    "    --in-amr ../DATA/wiki25.jkaln \\\n",
    "    --out-sentences $ORACLE_FOLDER/train.en \\\n",
    "    --out-actions $ORACLE_FOLDER/train.actions \\\n",
    "    --out-rule-stats $ORACLE_FOLDER/train.rules.json \\\n",
    "    --copy-lemma-action"
   ]
  },
  {
   "cell_type": "code",
   "execution_count": 43,
   "metadata": {},
   "outputs": [],
   "source": [
    "%%bash\n",
    "\n",
    "# Config\n",
    "ORACLE_FOLDER=../DATA.tests/oracles/wiki25/\n",
    "FEATURES_FOLDER=../DATA.tests/features/wiki25/\n",
    "MODEL_FOLDER=../DATA.tests/models/wiki25/\n",
    "RESULTS_FOLDER=$MODEL_FOLDER/beam1\n",
    "max_epoch=10\n",
    "\n",
    "# For this unit test train/dev/test is the same (memorize test)\n",
    "cp $ORACLE_FOLDER/train.en $ORACLE_FOLDER/dev.en\n",
    "cp $ORACLE_FOLDER/train.actions $ORACLE_FOLDER/dev.actions\n",
    "cp $ORACLE_FOLDER/train.en $ORACLE_FOLDER/test.en\n",
    "cp $ORACLE_FOLDER/train.actions $ORACLE_FOLDER/test.actions"
   ]
  },
  {
   "cell_type": "code",
   "execution_count": null,
   "metadata": {},
   "outputs": [],
   "source": []
  },
  {
   "cell_type": "code",
   "execution_count": null,
   "metadata": {},
   "outputs": [
    {
     "name": "stdout",
     "output_type": "stream",
     "text": [
      "Namespace(alignfile=None, batch_normalize_reward=False, bert_layers=None, bpe=None, cpu=False, criterion='cross_entropy', dataset_impl='mmap', destdir='../DATA.tests/features/wiki25/', fp16=False, fp16_init_scale=128, fp16_scale_tolerance=0.0, fp16_scale_window=None, gold_annotations=None, gold_episode_ratio=None, joined_dictionary=False, log_format=None, log_interval=1000, lr_scheduler='fixed', machine_rules='../DATA.tests/oracles/wiki25//train.rules.json', machine_type='AMR', memory_efficient_fp16=False, min_loss_scale=0.0001, no_progress_bar=False, nwordssrc=-1, nwordstgt=-1, only_source=False, optimizer='nag', padding_factor=8, pretrained_embed='roberta.base', seed=1, source_lang='en', srcdict=None, target_lang='actions', task='translation', tbmf_wrapper=False, tensorboard_logdir='', testpref='../DATA.tests/oracles/wiki25//test', tgtdict=None, threshold_loss_scale=None, thresholdsrc=0, thresholdtgt=0, tokenizer=None, trainpref='../DATA.tests/oracles/wiki25//train', user_dir=None, validpref='../DATA.tests/oracles/wiki25//dev', workers=1)\n",
      "| [en] Dictionary: 247 types\n",
      "| [en] ../DATA.tests/oracles/wiki25//train.en: 25 sents, 408 tokens, 0.0% replaced by <unk>\n",
      "| [en] Dictionary: 247 types\n",
      "| [en] ../DATA.tests/oracles/wiki25//dev.en: 25 sents, 408 tokens, 0.0% replaced by <unk>\n",
      "| [en] Dictionary: 247 types\n",
      "| [en] ../DATA.tests/oracles/wiki25//test.en: 25 sents, 408 tokens, 0.0% replaced by <unk>\n",
      "| [actions] Dictionary: 111 types\n",
      "| [actions] ../DATA.tests/oracles/wiki25//train.actions: 25 sents, 1326 tokens, 0.0% replaced by <unk>\n",
      "| [actions] Dictionary: 111 types\n",
      "| [actions] ../DATA.tests/oracles/wiki25//dev.actions: 25 sents, 1326 tokens, 0.0% replaced by <unk>\n",
      "| [actions] Dictionary: 111 types\n",
      "| [actions] ../DATA.tests/oracles/wiki25//test.actions: 25 sents, 1326 tokens, 0.0% replaced by <unk>\n",
      "Unable to build Cython components. Please make sure Cython is installed if the torch.hub model you are loading depends on it.\n",
      "loading archive file http://dl.fbaipublicfiles.com/fairseq/models/roberta.base.tar.gz from cache at /u/jzhou670/.cache/torch/pytorch_fairseq/37d2bc14cf6332d61ed5abeb579948e6054e46cc724c7d23426382d11a31b2d6.ae5852b4abc6bf762e0b6b30f19e741aa05562471e9eb8f4a6ae261f04f9b350\n",
      "| dictionary: 50264 types\n",
      "Using roberta.base extraction in GPU\n",
      "\n",
      "\n",
      "Unable to build Cython components. Please make sure Cython is installed if the torch.hub model you are loading depends on it.\n",
      "loading archive file http://dl.fbaipublicfiles.com/fairseq/models/roberta.base.tar.gz from cache at /u/jzhou670/.cache/torch/pytorch_fairseq/37d2bc14cf6332d61ed5abeb579948e6054e46cc724c7d23426382d11a31b2d6.ae5852b4abc6bf762e0b6b30f19e741aa05562471e9eb8f4a6ae261f04f9b350\n",
      "| dictionary: 50264 types\n",
      "Using roberta.base extraction in GPU\n",
      "\n",
      "\n",
      "Unable to build Cython components. Please make sure Cython is installed if the torch.hub model you are loading depends on it.\n",
      "loading archive file http://dl.fbaipublicfiles.com/fairseq/models/roberta.base.tar.gz from cache at /u/jzhou670/.cache/torch/pytorch_fairseq/37d2bc14cf6332d61ed5abeb579948e6054e46cc724c7d23426382d11a31b2d6.ae5852b4abc6bf762e0b6b30f19e741aa05562471e9eb8f4a6ae261f04f9b350\n",
      "| dictionary: 50264 types\n",
      "Using roberta.base extraction in GPU\n",
      "\n",
      "\n",
      "| Wrote preprocessed data to ../DATA.tests/features/wiki25/\n"
     ]
    }
   ],
   "source": [
    "%%bash\n",
    "\n",
    "# Config\n",
    "ORACLE_FOLDER=../DATA.tests/oracles/wiki25/\n",
    "FEATURES_FOLDER=../DATA.tests/features/wiki25/\n",
    "MODEL_FOLDER=../DATA.tests/models/wiki25/\n",
    "RESULTS_FOLDER=$MODEL_FOLDER/beam1\n",
    "max_epoch=10\n",
    "\n",
    "set -o errexit\n",
    "set -o pipefail\n",
    "set -o nounset\n",
    "\n",
    "# PREPROCESSING\n",
    "# Extract sentence featrures and action sequence and store them in fairseq\n",
    "# format\n",
    "rm -Rf $FEATURES_FOLDER  # not as var for security\n",
    "mkdir -p $FEATURES_FOLDER\n",
    "fairseq-preprocess \\\n",
    "    --source-lang en \\\n",
    "    --target-lang actions \\\n",
    "    --trainpref $ORACLE_FOLDER/train \\\n",
    "    --validpref $ORACLE_FOLDER/dev \\\n",
    "    --testpref $ORACLE_FOLDER/test \\\n",
    "    --destdir $FEATURES_FOLDER \\\n",
    "    --workers 1 \\\n",
    "    --machine-type AMR \\\n",
    "    --machine-rules $ORACLE_FOLDER/train.rules.json"
   ]
  },
  {
   "cell_type": "code",
   "execution_count": null,
   "metadata": {},
   "outputs": [],
   "source": []
  },
  {
   "cell_type": "code",
   "execution_count": 53,
   "metadata": {},
   "outputs": [
    {
     "data": {
      "text/plain": [
       "False"
      ]
     },
     "execution_count": 53,
     "metadata": {},
     "output_type": "execute_result"
    }
   ],
   "source": [
    "False ^ False"
   ]
  },
  {
   "cell_type": "code",
   "execution_count": 55,
   "metadata": {},
   "outputs": [
    {
     "data": {
      "text/plain": [
       "set"
      ]
     },
     "execution_count": 55,
     "metadata": {},
     "output_type": "execute_result"
    }
   ],
   "source": [
    "type({i for i in range(10)})"
   ]
  },
  {
   "cell_type": "code",
   "execution_count": 2,
   "metadata": {},
   "outputs": [
    {
     "ename": "NameError",
     "evalue": "name '__file__' is not defined",
     "output_type": "error",
     "traceback": [
      "\u001b[0;31m---------------------------------------------------------------------------\u001b[0m",
      "\u001b[0;31mNameError\u001b[0m                                 Traceback (most recent call last)",
      "\u001b[0;32m<ipython-input-2-02b12ba5c0f4>\u001b[0m in \u001b[0;36m<module>\u001b[0;34m\u001b[0m\n\u001b[1;32m      1\u001b[0m \u001b[0;32mimport\u001b[0m \u001b[0mos\u001b[0m\u001b[0;34m\u001b[0m\u001b[0;34m\u001b[0m\u001b[0m\n\u001b[0;32m----> 2\u001b[0;31m \u001b[0mprint\u001b[0m\u001b[0;34m(\u001b[0m\u001b[0m__file__\u001b[0m\u001b[0;34m)\u001b[0m\u001b[0;34m\u001b[0m\u001b[0;34m\u001b[0m\u001b[0m\n\u001b[0m\u001b[1;32m      3\u001b[0m \u001b[0mprint\u001b[0m\u001b[0;34m(\u001b[0m\u001b[0mos\u001b[0m\u001b[0;34m.\u001b[0m\u001b[0mpath\u001b[0m\u001b[0;34m.\u001b[0m\u001b[0mjoin\u001b[0m\u001b[0;34m(\u001b[0m\u001b[0mos\u001b[0m\u001b[0;34m.\u001b[0m\u001b[0mpath\u001b[0m\u001b[0;34m.\u001b[0m\u001b[0mdirname\u001b[0m\u001b[0;34m(\u001b[0m\u001b[0m__file__\u001b[0m\u001b[0;34m)\u001b[0m\u001b[0;34m,\u001b[0m \u001b[0;34m'..'\u001b[0m\u001b[0;34m)\u001b[0m\u001b[0;34m)\u001b[0m\u001b[0;34m\u001b[0m\u001b[0;34m\u001b[0m\u001b[0m\n\u001b[1;32m      4\u001b[0m \u001b[0mprint\u001b[0m\u001b[0;34m(\u001b[0m\u001b[0mos\u001b[0m\u001b[0;34m.\u001b[0m\u001b[0mpath\u001b[0m\u001b[0;34m.\u001b[0m\u001b[0mdirname\u001b[0m\u001b[0;34m(\u001b[0m\u001b[0mos\u001b[0m\u001b[0;34m.\u001b[0m\u001b[0mpath\u001b[0m\u001b[0;34m.\u001b[0m\u001b[0mrealpath\u001b[0m\u001b[0;34m(\u001b[0m\u001b[0m__file__\u001b[0m\u001b[0;34m)\u001b[0m\u001b[0;34m)\u001b[0m\u001b[0;34m)\u001b[0m\u001b[0;34m\u001b[0m\u001b[0;34m\u001b[0m\u001b[0m\n\u001b[1;32m      5\u001b[0m \u001b[0mprint\u001b[0m\u001b[0;34m(\u001b[0m\u001b[0mos\u001b[0m\u001b[0;34m.\u001b[0m\u001b[0mpath\u001b[0m\u001b[0;34m.\u001b[0m\u001b[0mabspath\u001b[0m\u001b[0;34m(\u001b[0m\u001b[0mos\u001b[0m\u001b[0;34m.\u001b[0m\u001b[0mpath\u001b[0m\u001b[0;34m.\u001b[0m\u001b[0mdirname\u001b[0m\u001b[0;34m(\u001b[0m\u001b[0m__file__\u001b[0m\u001b[0;34m)\u001b[0m\u001b[0;34m)\u001b[0m\u001b[0;34m)\u001b[0m\u001b[0;34m\u001b[0m\u001b[0;34m\u001b[0m\u001b[0m\n",
      "\u001b[0;31mNameError\u001b[0m: name '__file__' is not defined"
     ]
    }
   ],
   "source": [
    "import os\n",
    "print(__file__)\n",
    "print(os.path.join(os.path.dirname(__file__), '..'))\n",
    "print(os.path.dirname(os.path.realpath(__file__)))\n",
    "print(os.path.abspath(os.path.dirname(__file__)))"
   ]
  },
  {
   "cell_type": "code",
   "execution_count": 11,
   "metadata": {},
   "outputs": [
    {
     "data": {
      "text/plain": [
       "('/dccstor/ykt-parse/AMR/jiawei2020', 'transition-amr-parser')"
      ]
     },
     "execution_count": 11,
     "metadata": {},
     "output_type": "execute_result"
    }
   ],
   "source": [
    "os.path.split(os.path.dirname(os.path.abspath(os.path.dirname('./'))))"
   ]
  },
  {
   "cell_type": "code",
   "execution_count": 28,
   "metadata": {},
   "outputs": [],
   "source": [
    "class a:\n",
    "    bb = 'd'\n",
    "    def __init__(self):\n",
    "        self.bb = 'c'\n",
    "    \n",
    "    @classmethod\n",
    "    def pp(cls):\n",
    "        print(cls.bb)"
   ]
  },
  {
   "cell_type": "code",
   "execution_count": 17,
   "metadata": {},
   "outputs": [],
   "source": [
    "aa = a()"
   ]
  },
  {
   "cell_type": "code",
   "execution_count": 30,
   "metadata": {},
   "outputs": [
    {
     "name": "stdout",
     "output_type": "stream",
     "text": [
      "d\n"
     ]
    }
   ],
   "source": [
    "aa.pp()"
   ]
  },
  {
   "cell_type": "code",
   "execution_count": 31,
   "metadata": {},
   "outputs": [
    {
     "data": {
      "text/plain": [
       "'d'"
      ]
     },
     "execution_count": 31,
     "metadata": {},
     "output_type": "execute_result"
    }
   ],
   "source": [
    "aa.bb"
   ]
  },
  {
   "cell_type": "code",
   "execution_count": 32,
   "metadata": {},
   "outputs": [
    {
     "data": {
      "text/plain": [
       "'d'"
      ]
     },
     "execution_count": 32,
     "metadata": {},
     "output_type": "execute_result"
    }
   ],
   "source": [
    "a.bb"
   ]
  },
  {
   "cell_type": "code",
   "execution_count": 2,
   "metadata": {},
   "outputs": [],
   "source": [
    "import torch"
   ]
  },
  {
   "cell_type": "code",
   "execution_count": 2,
   "metadata": {},
   "outputs": [],
   "source": [
    "a = torch.randn(10, 5, 1000)"
   ]
  },
  {
   "cell_type": "code",
   "execution_count": 5,
   "metadata": {},
   "outputs": [
    {
     "data": {
      "text/plain": [
       "torch.Size([10, 1, 1000])"
      ]
     },
     "execution_count": 5,
     "metadata": {},
     "output_type": "execute_result"
    }
   ],
   "source": [
    "a[:, ::5, :].size()"
   ]
  },
  {
   "cell_type": "code",
   "execution_count": 6,
   "metadata": {},
   "outputs": [],
   "source": [
    "b = torch.randn(10)"
   ]
  },
  {
   "cell_type": "code",
   "execution_count": 7,
   "metadata": {},
   "outputs": [
    {
     "data": {
      "text/plain": [
       "tensor([-0.2619, -0.4454, -1.4906, -0.7541, -1.6680, -0.4524, -0.2366, -0.6521,\n",
       "        -2.5858,  0.6958])"
      ]
     },
     "execution_count": 7,
     "metadata": {},
     "output_type": "execute_result"
    }
   ],
   "source": [
    "b"
   ]
  },
  {
   "cell_type": "code",
   "execution_count": 9,
   "metadata": {},
   "outputs": [
    {
     "data": {
      "text/plain": [
       "tensor([-0.2619, -0.4524])"
      ]
     },
     "execution_count": 9,
     "metadata": {},
     "output_type": "execute_result"
    }
   ],
   "source": [
    "b[::5]"
   ]
  },
  {
   "cell_type": "code",
   "execution_count": 3,
   "metadata": {},
   "outputs": [
    {
     "data": {
      "text/plain": [
       "tensor(-9223372036854775808)"
      ]
     },
     "execution_count": 3,
     "metadata": {},
     "output_type": "execute_result"
    }
   ],
   "source": [
    "1/torch.tensor(0)"
   ]
  },
  {
   "cell_type": "code",
   "execution_count": 7,
   "metadata": {},
   "outputs": [
    {
     "data": {
      "text/plain": [
       "tensor(-0.)"
      ]
     },
     "execution_count": 7,
     "metadata": {},
     "output_type": "execute_result"
    }
   ],
   "source": [
    "1/torch.log(torch.tensor(0.0))"
   ]
  },
  {
   "cell_type": "code",
   "execution_count": 10,
   "metadata": {},
   "outputs": [
    {
     "name": "stdout",
     "output_type": "stream",
     "text": [
      "Object `torch.logsoftmax` not found.\n"
     ]
    }
   ],
   "source": [
    "??torch."
   ]
  },
  {
   "cell_type": "code",
   "execution_count": null,
   "metadata": {},
   "outputs": [],
   "source": []
  },
  {
   "cell_type": "code",
   "execution_count": 21,
   "metadata": {},
   "outputs": [],
   "source": [
    "split = 'test'\n",
    "g = open(f'/dccstor/ykt-parse/AMR/jiawei2020/transition-amr-parser/EXP/data'\n",
    "         f'/o3align_roberta-base-last_act-noeos-states-2LAroot/oracle/{split}.en', 'r')\n",
    "f = open(f'/dccstor/ykt-parse/AMR/jiawei2020/transition-amr-parser/EXP/data'\n",
    "         f'/o3align_roberta-base-last_act-noeos-states-2LAroot/oracle/{split}.actions', 'r')"
   ]
  },
  {
   "cell_type": "code",
   "execution_count": 43,
   "metadata": {},
   "outputs": [],
   "source": [
    "import os\n",
    "\n",
    "\n",
    "def get_enact_lens(data_dir, split):\n",
    "    with open(os.path.join(data_dir, f'{split}.en'), 'r') as f, \\\n",
    "         open(os.path.join(data_dir, f'{split}.actions'), 'r') as g:\n",
    "        ens = [line.strip().split('\\t') for line in f if line.strip()]\n",
    "        acts = [line.strip().split('\\t') for line in g if line.strip()]\n",
    "        \n",
    "    ens_lens = [len(line) for line in ens]\n",
    "    acts_lens = [len(line) for line in acts]\n",
    "    len_ratios = [al / el for el, al in zip(ens_lens, acts_lens)]\n",
    "    len_diffs = [al - el for el, al in zip(ens_lens, acts_lens)]\n",
    "    \n",
    "    num_acts_longer200 = len(list(filter(lambda x: x > 200, acts_lens)))\n",
    "    \n",
    "    print('-' * 10, 'en sequence lengths (min, max, average)', '-' * 10)\n",
    "    print(min(ens_lens))\n",
    "    print(max(ens_lens))\n",
    "    print(sum(ens_lens) / len(ens_lens))\n",
    "    \n",
    "    print('-' * 10, 'actions sequence lengths (min, max, average)', '-' * 10)\n",
    "    print(min(acts_lens))\n",
    "    print(max(acts_lens))\n",
    "    print(sum(acts_lens) / len(acts_lens))\n",
    "    print(f'number of action sequences with length > 200: {num_acts_longer200}')\n",
    "    \n",
    "    print('-' * 10, 'actions / en sequence lengths ratios (min, max, average)', '-' * 10)\n",
    "    print(min(len_ratios))\n",
    "    print(max(len_ratios))\n",
    "    print(sum(len_ratios) / len(len_ratios))\n",
    "    \n",
    "    print('-' * 10, 'actions - en sequence lengths differences (min, max, average)', '-' * 10)\n",
    "    print(min(len_diffs))\n",
    "    print(max(len_diffs))\n",
    "    print(sum(len_diffs) / len(len_diffs))"
   ]
  },
  {
   "cell_type": "code",
   "execution_count": 44,
   "metadata": {},
   "outputs": [
    {
     "name": "stdout",
     "output_type": "stream",
     "text": [
      "---------- en sequence lengths (min, max, average) ----------\n",
      "2\n",
      "130\n",
      "22.39546783625731\n",
      "---------- actions sequence lengths (min, max, average) ----------\n",
      "4\n",
      "258\n",
      "46.4671052631579\n",
      "number of action sequences with length > 200: 3\n",
      "---------- actions / en sequence lengths ratios (min, max, average) ----------\n",
      "1.3333333333333333\n",
      "2.7142857142857144\n",
      "2.0612126374273494\n",
      "---------- actions - en sequence lengths differences (min, max, average) ----------\n",
      "2\n",
      "128\n",
      "24.071637426900583\n"
     ]
    }
   ],
   "source": [
    "data_dir = '/dccstor/ykt-parse/AMR/jiawei2020/transition-amr-parser/EXP/data' \\\n",
    "           '/o3align_roberta-base-last_act-noeos-states-2LAroot/oracle/'\n",
    "split = 'dev'\n",
    "\n",
    "get_enact_lens(data_dir, split)"
   ]
  },
  {
   "cell_type": "code",
   "execution_count": 45,
   "metadata": {},
   "outputs": [
    {
     "name": "stdout",
     "output_type": "stream",
     "text": [
      "---------- en sequence lengths (min, max, average) ----------\n",
      "2\n",
      "241\n",
      "22.921225382932167\n",
      "---------- actions sequence lengths (min, max, average) ----------\n",
      "4\n",
      "415\n",
      "47.76513493800146\n",
      "number of action sequences with length > 200: 2\n",
      "---------- actions / en sequence lengths ratios (min, max, average) ----------\n",
      "1.1818181818181819\n",
      "2.888888888888889\n",
      "2.075689481786895\n",
      "---------- actions - en sequence lengths differences (min, max, average) ----------\n",
      "2\n",
      "193\n",
      "24.843909555069292\n"
     ]
    }
   ],
   "source": [
    "data_dir = '/dccstor/ykt-parse/AMR/jiawei2020/transition-amr-parser/EXP/data' \\\n",
    "           '/o3align_roberta-base-last_act-noeos-states-2LAroot/oracle/'\n",
    "split = 'test'\n",
    "\n",
    "get_enact_lens(data_dir, split)"
   ]
  },
  {
   "cell_type": "code",
   "execution_count": 46,
   "metadata": {},
   "outputs": [
    {
     "name": "stdout",
     "output_type": "stream",
     "text": [
      "---------- en sequence lengths (min, max, average) ----------\n",
      "2\n",
      "227\n",
      "18.87807015141973\n",
      "---------- actions sequence lengths (min, max, average) ----------\n",
      "2\n",
      "469\n",
      "38.81150570904411\n",
      "number of action sequences with length > 200: 40\n",
      "---------- actions / en sequence lengths ratios (min, max, average) ----------\n",
      "1.0\n",
      "3.0833333333333335\n",
      "2.0495001622037905\n",
      "---------- actions - en sequence lengths differences (min, max, average) ----------\n",
      "0\n",
      "242\n",
      "19.93343555762438\n"
     ]
    }
   ],
   "source": [
    "data_dir = '/dccstor/ykt-parse/AMR/jiawei2020/transition-amr-parser/EXP/data' \\\n",
    "           '/o3align_roberta-base-last_act-noeos-states-2LAroot/oracle/'\n",
    "split = 'train'\n",
    "\n",
    "get_enact_lens(data_dir, split)"
   ]
  },
  {
   "cell_type": "code",
   "execution_count": 47,
   "metadata": {},
   "outputs": [
    {
     "name": "stdout",
     "output_type": "stream",
     "text": [
      "---------- en sequence lengths (min, max, average) ----------\n",
      "2\n",
      "130\n",
      "22.39546783625731\n",
      "---------- actions sequence lengths (min, max, average) ----------\n",
      "4\n",
      "258\n",
      "46.4671052631579\n",
      "number of action sequences with length > 200: 3\n",
      "---------- actions / en sequence lengths ratios (min, max, average) ----------\n",
      "1.3333333333333333\n",
      "2.7142857142857144\n",
      "2.0612126374273494\n",
      "---------- actions - en sequence lengths differences (min, max, average) ----------\n",
      "2\n",
      "128\n",
      "24.071637426900583\n"
     ]
    }
   ],
   "source": [
    "data_dir = '/dccstor/ykt-parse/AMR/jiawei2020/transition-amr-parser/EXP/data' \\\n",
    "           '/o3align_roberta-base-last_act-noeos-states/oracle/'\n",
    "split = 'dev'\n",
    "\n",
    "get_enact_lens(data_dir, split)"
   ]
  },
  {
   "cell_type": "code",
   "execution_count": 48,
   "metadata": {},
   "outputs": [
    {
     "name": "stdout",
     "output_type": "stream",
     "text": [
      "---------- en sequence lengths (min, max, average) ----------\n",
      "2\n",
      "241\n",
      "22.921225382932167\n",
      "---------- actions sequence lengths (min, max, average) ----------\n",
      "4\n",
      "415\n",
      "47.76513493800146\n",
      "number of action sequences with length > 200: 2\n",
      "---------- actions / en sequence lengths ratios (min, max, average) ----------\n",
      "1.1818181818181819\n",
      "2.888888888888889\n",
      "2.075689481786895\n",
      "---------- actions - en sequence lengths differences (min, max, average) ----------\n",
      "2\n",
      "193\n",
      "24.843909555069292\n"
     ]
    }
   ],
   "source": [
    "data_dir = '/dccstor/ykt-parse/AMR/jiawei2020/transition-amr-parser/EXP/data' \\\n",
    "           '/o3align_roberta-base-last_act-noeos-states/oracle/'\n",
    "split = 'test'\n",
    "\n",
    "get_enact_lens(data_dir, split)"
   ]
  },
  {
   "cell_type": "code",
   "execution_count": 49,
   "metadata": {},
   "outputs": [
    {
     "name": "stdout",
     "output_type": "stream",
     "text": [
      "---------- en sequence lengths (min, max, average) ----------\n",
      "2\n",
      "227\n",
      "18.87807015141973\n",
      "---------- actions sequence lengths (min, max, average) ----------\n",
      "2\n",
      "469\n",
      "38.83576572383013\n",
      "number of action sequences with length > 200: 40\n",
      "---------- actions / en sequence lengths ratios (min, max, average) ----------\n",
      "1.0\n",
      "3.0833333333333335\n",
      "2.0512765867394678\n",
      "---------- actions - en sequence lengths differences (min, max, average) ----------\n",
      "0\n",
      "242\n",
      "19.957695572410394\n"
     ]
    }
   ],
   "source": [
    "data_dir = '/dccstor/ykt-parse/AMR/jiawei2020/transition-amr-parser/EXP/data' \\\n",
    "           '/o3align_roberta-base-last_act-noeos-states/oracle/'\n",
    "split = 'train'\n",
    "\n",
    "get_enact_lens(data_dir, split)"
   ]
  },
  {
   "cell_type": "code",
   "execution_count": null,
   "metadata": {},
   "outputs": [],
   "source": []
  }
 ],
 "metadata": {
  "kernelspec": {
   "display_name": "Python [conda env:cenv_x86] *",
   "language": "python",
   "name": "conda-env-cenv_x86-py"
  },
  "language_info": {
   "codemirror_mode": {
    "name": "ipython",
    "version": 3
   },
   "file_extension": ".py",
   "mimetype": "text/x-python",
   "name": "python",
   "nbconvert_exporter": "python",
   "pygments_lexer": "ipython3",
   "version": "3.6.9"
  }
 },
 "nbformat": 4,
 "nbformat_minor": 4
}
