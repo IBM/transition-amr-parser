{
 "cells": [
  {
   "cell_type": "code",
   "execution_count": 41,
   "metadata": {},
   "outputs": [],
   "source": [
    "beam = 1\n",
    "split = 'valid'    # 'valid' or 'test'\n",
    "\n",
    "actfile = ('/dccstor/jzhou1/work/EXP/exp_o3_roberta-large-top24_act-pos_vmask0_shiftpos0_'\n",
    "           'cattnmask-layerall-head1-focusp0n0_ptr-layer6-head1/models_ep120_seed42'\n",
    "           f'/beam{beam}/{split}_checkpoint_last.actions')"
   ]
  },
  {
   "cell_type": "code",
   "execution_count": 42,
   "metadata": {},
   "outputs": [],
   "source": [
    "with open(actfile, 'r') as f:\n",
    "    lines = [line.strip().split('\\t') for line in f if line.strip()]"
   ]
  },
  {
   "cell_type": "code",
   "execution_count": 43,
   "metadata": {},
   "outputs": [],
   "source": [
    "lens = [len(line) for line in lines]\n",
    "maxlen_idx = [i for i, l in enumerate(lens) if l == 200]"
   ]
  },
  {
   "cell_type": "code",
   "execution_count": 44,
   "metadata": {},
   "outputs": [
    {
     "data": {
      "text/plain": [
       "200"
      ]
     },
     "execution_count": 44,
     "metadata": {},
     "output_type": "execute_result"
    }
   ],
   "source": [
    "max(lens)"
   ]
  },
  {
   "cell_type": "code",
   "execution_count": 45,
   "metadata": {},
   "outputs": [
    {
     "data": {
      "text/plain": [
       "3"
      ]
     },
     "execution_count": 45,
     "metadata": {},
     "output_type": "execute_result"
    }
   ],
   "source": [
    "len(maxlen_idx)"
   ]
  },
  {
   "cell_type": "markdown",
   "metadata": {},
   "source": [
    "Thus, when previously I set the max_len to be 200 in the sequence generator code, it did limit the max length of generation to be 200, which was not the case in the actual data."
   ]
  },
  {
   "cell_type": "markdown",
   "metadata": {},
   "source": [
    "The max_len should not play a role in the generation, since if we only allow generation of valid actions, and follow the source token sequence, the generation will always end naturally when it needs to."
   ]
  },
  {
   "cell_type": "code",
   "execution_count": null,
   "metadata": {},
   "outputs": [],
   "source": []
  }
 ],
 "metadata": {
  "kernelspec": {
   "display_name": "Python 3",
   "language": "python",
   "name": "python3"
  },
  "language_info": {
   "codemirror_mode": {
    "name": "ipython",
    "version": 3
   },
   "file_extension": ".py",
   "mimetype": "text/x-python",
   "name": "python",
   "nbconvert_exporter": "python",
   "pygments_lexer": "ipython3",
   "version": "3.6.9"
  }
 },
 "nbformat": 4,
 "nbformat_minor": 4
}
