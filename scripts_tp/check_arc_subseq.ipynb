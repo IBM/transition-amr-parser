{
 "cells": [
  {
   "cell_type": "markdown",
   "metadata": {},
   "source": [
    "#### check the maximum length of the arc subsequence "
   ]
  },
  {
   "cell_type": "code",
   "execution_count": 60,
   "metadata": {},
   "outputs": [],
   "source": [
    "f = open('../EXP/data/o5_act-states/oracle/train.actions', 'r')"
   ]
  },
  {
   "cell_type": "code",
   "execution_count": 61,
   "metadata": {},
   "outputs": [],
   "source": [
    "lines = [line.strip().split('\\t') for line in f if line.strip()]"
   ]
  },
  {
   "cell_type": "code",
   "execution_count": 62,
   "metadata": {},
   "outputs": [],
   "source": [
    "def max_arcsubseq_len(actions):\n",
    "    \"\"\"Extract all the arc subsequences and their lengths out of a single action sequence.\"\"\"\n",
    "    arcsubseqs = []\n",
    "    arcsubseqs_lens = []\n",
    "    subseq = []\n",
    "    for i, act in enumerate(actions):\n",
    "        if i >= 1:\n",
    "            if act.startswith(('LA', 'RA')):\n",
    "                if not actions[i - 1].startswith(('LA', 'RA')):\n",
    "                    assert not subseq\n",
    "                    subseq.append(act)\n",
    "                else:\n",
    "                    subseq.append(act)\n",
    "            else:\n",
    "                if subseq:\n",
    "                    arcsubseqs.append(subseq)\n",
    "                    arcsubseqs_lens.append(len(subseq))\n",
    "                    subseq = []\n",
    "\n",
    "    return arcsubseqs, arcsubseqs_lens"
   ]
  },
  {
   "cell_type": "code",
   "execution_count": 63,
   "metadata": {},
   "outputs": [],
   "source": [
    "max_arcsubseq_lens = []\n",
    "for i, actions in enumerate(lines):\n",
    "    arcsubseqs, arcsubseqs_lens = max_arcsubseq_len(actions)\n",
    "    max_arcsubseq_lens.append(max(arcsubseqs_lens) if arcsubseqs_lens else 0)\n",
    "#     if i == 11538:\n",
    "#         breakpoint()"
   ]
  },
  {
   "cell_type": "code",
   "execution_count": 64,
   "metadata": {},
   "outputs": [
    {
     "data": {
      "text/plain": [
       "36521"
      ]
     },
     "execution_count": 64,
     "metadata": {},
     "output_type": "execute_result"
    }
   ],
   "source": [
    "len(max_arcsubseq_lens)"
   ]
  },
  {
   "cell_type": "code",
   "execution_count": 65,
   "metadata": {},
   "outputs": [
    {
     "data": {
      "text/plain": [
       "15"
      ]
     },
     "execution_count": 65,
     "metadata": {},
     "output_type": "execute_result"
    }
   ],
   "source": [
    "max(max_arcsubseq_lens)"
   ]
  },
  {
   "cell_type": "code",
   "execution_count": null,
   "metadata": {},
   "outputs": [],
   "source": []
  }
 ],
 "metadata": {
  "kernelspec": {
   "display_name": "Python [conda env:.conda-amr0.4]",
   "language": "python",
   "name": "conda-env-.conda-amr0.4-py"
  },
  "language_info": {
   "codemirror_mode": {
    "name": "ipython",
    "version": 3
   },
   "file_extension": ".py",
   "mimetype": "text/x-python",
   "name": "python",
   "nbconvert_exporter": "python",
   "pygments_lexer": "ipython3",
   "version": "3.7.9"
  }
 },
 "nbformat": 4,
 "nbformat_minor": 2
}
